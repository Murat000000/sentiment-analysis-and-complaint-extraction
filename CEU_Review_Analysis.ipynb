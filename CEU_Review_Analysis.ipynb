{
 "cells": [
  {
   "cell_type": "markdown",
   "id": "dd516c4a",
   "metadata": {},
   "source": [
    "# CEU Review Analysis \n",
    "## Murat Tirkeshov"
   ]
  },
  {
   "cell_type": "code",
   "execution_count": 23,
   "id": "3bd52782",
   "metadata": {},
   "outputs": [],
   "source": [
    "import pandas as pd\n",
    "import numpy as np\n",
    "import os\n",
    "import sys\n",
    "from sklearn.metrics import accuracy_score, f1_score, confusion_matrix, precision_score, recall_score\n",
    "import seaborn as sns\n",
    "import matplotlib.pyplot as plt"
   ]
  },
  {
   "cell_type": "markdown",
   "id": "bce1996d",
   "metadata": {},
   "source": [
    "## Data"
   ]
  },
  {
   "cell_type": "code",
   "execution_count": 2,
   "id": "ac063de9",
   "metadata": {},
   "outputs": [
    {
     "data": {
      "application/vnd.microsoft.datawrangler.viewer.v0+json": {
       "columns": [
        {
         "name": "index",
         "rawType": "int64",
         "type": "integer"
        },
        {
         "name": "Content",
         "rawType": "object",
         "type": "string"
        },
        {
         "name": "Date",
         "rawType": "object",
         "type": "string"
        }
       ],
       "ref": "f1b0feec-b9bb-410f-ac33-6c8dea9ef272",
       "rows": [
        [
         "0",
         "Our favourite gelateria in Rome. An excellent range of flavours and extremely good value for money.",
         "2023-01-03"
        ],
        [
         "1",
         "Delicious and creamy what I can say more? If You looking for real italian gelato this is that place.",
         "2023-01-07"
        ],
        [
         "2",
         "Amazing choice of flavours! I had the coffee and vanilla. Absolutely divine. Will definitely return.",
         "2023-01-07"
        ],
        [
         "3",
         "What can I tell : it was a BIG ice cream, super good and cheap. A lot of choice in terms of flavours.",
         "2023-01-06"
        ],
        [
         "4",
         "Lots of Ice cream fruit flavors which are hard to find usually. The ice cream is genuine and very good",
         "2023-01-07"
        ]
       ],
       "shape": {
        "columns": 2,
        "rows": 5
       }
      },
      "text/html": [
       "<div>\n",
       "<style scoped>\n",
       "    .dataframe tbody tr th:only-of-type {\n",
       "        vertical-align: middle;\n",
       "    }\n",
       "\n",
       "    .dataframe tbody tr th {\n",
       "        vertical-align: top;\n",
       "    }\n",
       "\n",
       "    .dataframe thead th {\n",
       "        text-align: right;\n",
       "    }\n",
       "</style>\n",
       "<table border=\"1\" class=\"dataframe\">\n",
       "  <thead>\n",
       "    <tr style=\"text-align: right;\">\n",
       "      <th></th>\n",
       "      <th>Content</th>\n",
       "      <th>Date</th>\n",
       "    </tr>\n",
       "  </thead>\n",
       "  <tbody>\n",
       "    <tr>\n",
       "      <th>0</th>\n",
       "      <td>Our favourite gelateria in Rome. An excellent ...</td>\n",
       "      <td>2023-01-03</td>\n",
       "    </tr>\n",
       "    <tr>\n",
       "      <th>1</th>\n",
       "      <td>Delicious and creamy what I can say more? If Y...</td>\n",
       "      <td>2023-01-07</td>\n",
       "    </tr>\n",
       "    <tr>\n",
       "      <th>2</th>\n",
       "      <td>Amazing choice of flavours! I had the coffee a...</td>\n",
       "      <td>2023-01-07</td>\n",
       "    </tr>\n",
       "    <tr>\n",
       "      <th>3</th>\n",
       "      <td>What can I tell : it was a BIG ice cream, supe...</td>\n",
       "      <td>2023-01-06</td>\n",
       "    </tr>\n",
       "    <tr>\n",
       "      <th>4</th>\n",
       "      <td>Lots of Ice cream fruit flavors which are hard...</td>\n",
       "      <td>2023-01-07</td>\n",
       "    </tr>\n",
       "  </tbody>\n",
       "</table>\n",
       "</div>"
      ],
      "text/plain": [
       "                                             Content        Date\n",
       "0  Our favourite gelateria in Rome. An excellent ...  2023-01-03\n",
       "1  Delicious and creamy what I can say more? If Y...  2023-01-07\n",
       "2  Amazing choice of flavours! I had the coffee a...  2023-01-07\n",
       "3  What can I tell : it was a BIG ice cream, supe...  2023-01-06\n",
       "4  Lots of Ice cream fruit flavors which are hard...  2023-01-07"
      ]
     },
     "execution_count": 2,
     "metadata": {},
     "output_type": "execute_result"
    }
   ],
   "source": [
    "df = pd.read_csv('Giolitti (Ice Cream Shop in Rome) - Tripadvisor Reviews.csv')\n",
    "df.head()"
   ]
  },
  {
   "cell_type": "markdown",
   "id": "09ed258f",
   "metadata": {},
   "source": [
    "### \t•\tTask A (Sentiment Classification):\n",
    "* Prompt A: A minimal directive – e.g., “Classify the sentiment of this review as Positive, Neutral, or Negative:” followed directly by the review text. This straightforward prompt relies on the model to complete the task with no additional guidance.\n",
    "* Prompt B: A role-oriented prompt – e.g., “You are a sentiment classifier… Output one of the following: Positive, Neutral, or Negative. Content: [Review].” This prompt explicitly tells the model its role and the expected output format (one of the three labels). The aim is to focus the model on producing just the category name.\n",
    "* Prompt C: A detailed instruction – e.g., “Sentiment Analysis Task: Please assess the sentiment… take everything into account (every feeling, sarcasm etc.). Choose from: Positive / Neutral / Negative. Content: ‘[Review]’.” This version gives the most explicit guidance, including mention of considering sarcasm/negation, hoping to improve handling of nuanced language. It sets the stage as a formal task to encourage a concise label output."
   ]
  },
  {
   "cell_type": "code",
   "execution_count": 3,
   "id": "9f017d50",
   "metadata": {},
   "outputs": [
    {
     "name": "stdout",
     "output_type": "stream",
     "text": [
      "Content 1:\n",
      "Classify the sentiment of this review as Positive, Neutral, or Negative:\n",
      "\n",
      "Cheap, tasty and big variety of flavors! Located in the city center. \n",
      "\n",
      "Could be a bit more as a portion though.\n",
      "---\n",
      "\n",
      "Content 2:\n",
      "Classify the sentiment of this review as Positive, Neutral, or Negative:\n",
      "\n",
      "What a fun experience! A friend referred us to go here, and it did not disappoint! Very easy process - pay first for the size (cone or cup, doesn’t matter), then look at flavors and order when it is your turn. Line went quickly. The...More\n",
      "---\n",
      "\n",
      "Content 3:\n",
      "Classify the sentiment of this review as Positive, Neutral, or Negative:\n",
      "\n",
      "Amazing selection of Gelatis.  Coffee, granitas and pastries were delicious as well.\n",
      "\n",
      "Always lines but moves very swiftly.\n",
      "---\n",
      "\n",
      "Content 4:\n",
      "Classify the sentiment of this review as Positive, Neutral, or Negative:\n",
      "\n",
      "1) It’s in an exquisite location down an alley in the center of Rome 2) it’s relatively cheap at 3€ for a small 3) the portions are large, bigger than other shops I went to 4) I thought the staff was friendly and authentic 5)...More\n",
      "---\n",
      "\n",
      "Content 5:\n",
      "Classify the sentiment of this review as Positive, Neutral, or Negative:\n",
      "\n",
      "I ate A LOT of gelato in Italy, and Giolitti was the best! In fact, I came back again for more. The gelateria is busy and usually has big crowds, but the staff moves people through quickly. There are loads of amazing flavors of gelato...More\n",
      "---\n",
      "\n"
     ]
    }
   ],
   "source": [
    "df = df.dropna(subset=[\"Content\"])\n",
    "df = df[df[\"Content\"].str.len() > 30].reset_index(drop=True)\n",
    "reviews = df[\"Content\"].sample(200, random_state=42).tolist()\n",
    "\n",
    "def create_prompt(review_text, version=\"A\"):\n",
    "    if version == \"A\":\n",
    "        return f\"Classify the sentiment of this review as Positive, Neutral, or Negative:\\n\\n{review_text}\"\n",
    "    elif version == \"B\":\n",
    "        return f\"You are a sentiment classifier for touristic places review classifications. Output one of the following: Positive, Neutral, or Negative.\\nContent: {review_text}\"\n",
    "    elif version == \"C\":\n",
    "        return f\"Sentiment Analysis Task:\\nPlease assess the sentiment of this customer review of a touristic destination. Read everything and take everything into account: every feeling, sarcasm etcetera. Choose from: Positive / Neutral / Negative.\\n\\nContent:\\n\\\"{review_text}\\\"\"\n",
    "\n",
    "\n",
    "for i in range(5):\n",
    "    print(f\"Content {i+1}:\")\n",
    "    print(create_prompt(reviews[i], version=\"A\"))\n",
    "    print(\"---\\n\")"
   ]
  },
  {
   "cell_type": "code",
   "execution_count": 4,
   "id": "06bf4bda",
   "metadata": {},
   "outputs": [
    {
     "data": {
      "application/vnd.microsoft.datawrangler.viewer.v0+json": {
       "columns": [
        {
         "name": "index",
         "rawType": "int64",
         "type": "integer"
        },
        {
         "name": "Content",
         "rawType": "object",
         "type": "string"
        }
       ],
       "ref": "d99afd9d-d276-45e1-94ad-7ead74c4f055",
       "rows": [
        [
         "0",
         "Wow. Oh My God. The Gelato. Seriously. What. This is a great place. The way this works is.. You choose how many toppings first (no number is big enough but I settled for three) then you pay at a pay desk take your ticket  join...More"
        ],
        [
         "1",
         "One of the famous gelato spots. The oldest in Rome i was told. We went in evening so the queue wasn't bad. Amazing choice of flavours and the fruit flavours were so intense. A nice experience whilst in Rome. Near the Pantheon  also"
        ],
        [
         "2",
         "I visited Giolotti’s twice when I was in Rome a few weeks ago having visited previously a few years ago. The quality and flavour was as good as ever; visiting later in the day meant the queue was not as big. Excellent range of flavours...More"
        ],
        [
         "3",
         "Thankyou so much for looking after us all on Monday night! We were the large group from England and the service and the gelato were exceptional it was a perfect end to a perfect night! I had hazelnut and sour cherry and it was soooooo...More"
        ],
        [
         "4",
         "Definitely one of the best ice creams I’ve ever tasted! Generous scoop size and the ice cream is super creamy, so yummy! Highly recommended when you are visiting Rome"
        ],
        [
         "5",
         "The gelato was so delicious that we come back everyday to try different flavours. Special thanks to Mariano (hope I get the right spelling) for choosing a surprisingly good combination of flavours! 😄\n\n雪糕超好吃，尤其是各種巧克力口味! 有位帥哥人超好，不但推介了好吃的口味組合，更會問清楚是否喜歡某種口味，以免叫錯不適合的組合，超nice!"
        ],
        [
         "6",
         "I walked with my all family, for half of a day,  to reach this recommend in our guide book ice creams place. The flavours and consistency of ice creams was disappointing up to a point that we didn't finish them. \nStaff members were arrogant. First...More"
        ],
        [
         "7",
         "We went twice during a recent trip. The fruit flavors are the best ones (strawberry was a favorite) and the black licorice was so authentic! Pistacchio was great too. Be sure to get in line to pay before you head back to order your gelato....More"
        ],
        [
         "8",
         "Fantastic place serving great food and drink for breakfast. The staff were always friendly and were more than happy to help me out in English when my attempts at ordering in Italian faltered. The coffee to go was always hot and tasty, and the croissants...More"
        ],
        [
         "9",
         "Okay you guys this was the best ice cream Ive ever had in my entire life. You have to try the Nutella- its not from this world"
        ],
        [
         "10",
         "Best ice Cream in Rome hands down,\nGreat value to price ratio. Tastes are just amazing. Especially recommend to taste the nutella taste!"
        ],
        [
         "11",
         "This is reported to be the oldest gelato shop in Rome.  Huge selection of gelato, pastries and candy.  Expect long lines, it's very popular!  The only drawback is that there is a charge to sit at a table inside the shop."
        ],
        [
         "12",
         "We called don for pudding with friends after Sunday lunch. We’ve been here before and if never disappoints. We all had two scoops of gelato with cream (panna). We also had coffee. For the extra they charge to sit down, it’s well worth it."
        ],
        [
         "13",
         "Pretty place. Loads of choice of ice cream and desserts.\nYou won’t be disappointed. \nFabulous. I had the pistachio and hazelnut. Amazing and I’m not a ice cream person."
        ],
        [
         "14",
         "Absolutely delicious authentic gelato - tons of options and very generous portions! Super friendly servers too. Highly recommend!"
        ],
        [
         "15",
         "Don’t let anyone tell you this is a tourist trap. Actually it’s fun, breezy and the ice cream is awesome. A must visit when you come to Rome. Do it and enjoy it."
        ],
        [
         "16",
         "The bá-bá is amazing just the way it should be. Unfortunately the ice cream I haven’t tried…but the dolce is worth to try it."
        ],
        [
         "17",
         "Best gelato in Rome no doubt. Old school vibe. So many great flavors, loved the cinnamon and salted caramel. Well worth the visit and queue."
        ],
        [
         "18",
         "We stopped here at night after visiting the pantheon. Our hotel recommended this location. The gelato was great. However, we found the gentleman who served us to be rude, also the lack of order in the line is boggling. My wife was up, and she...More"
        ],
        [
         "19",
         "Don't believe the hype! Not sure why all these reviews or high ratings.  I've had  much better gelato in Roma.  This is for sure not the best and the flavors, oh the flavors, only to appease the tourists.\n\nBy far, one of the worst tourist...More"
        ]
       ],
       "shape": {
        "columns": 1,
        "rows": 20
       }
      },
      "text/html": [
       "<div>\n",
       "<style scoped>\n",
       "    .dataframe tbody tr th:only-of-type {\n",
       "        vertical-align: middle;\n",
       "    }\n",
       "\n",
       "    .dataframe tbody tr th {\n",
       "        vertical-align: top;\n",
       "    }\n",
       "\n",
       "    .dataframe thead th {\n",
       "        text-align: right;\n",
       "    }\n",
       "</style>\n",
       "<table border=\"1\" class=\"dataframe\">\n",
       "  <thead>\n",
       "    <tr style=\"text-align: right;\">\n",
       "      <th></th>\n",
       "      <th>Content</th>\n",
       "    </tr>\n",
       "  </thead>\n",
       "  <tbody>\n",
       "    <tr>\n",
       "      <th>0</th>\n",
       "      <td>Wow. Oh My God. The Gelato. Seriously. What. T...</td>\n",
       "    </tr>\n",
       "    <tr>\n",
       "      <th>1</th>\n",
       "      <td>One of the famous gelato spots. The oldest in ...</td>\n",
       "    </tr>\n",
       "    <tr>\n",
       "      <th>2</th>\n",
       "      <td>I visited Giolotti’s twice when I was in Rome ...</td>\n",
       "    </tr>\n",
       "    <tr>\n",
       "      <th>3</th>\n",
       "      <td>Thankyou so much for looking after us all on M...</td>\n",
       "    </tr>\n",
       "    <tr>\n",
       "      <th>4</th>\n",
       "      <td>Definitely one of the best ice creams I’ve eve...</td>\n",
       "    </tr>\n",
       "    <tr>\n",
       "      <th>5</th>\n",
       "      <td>The gelato was so delicious that we come back ...</td>\n",
       "    </tr>\n",
       "    <tr>\n",
       "      <th>6</th>\n",
       "      <td>I walked with my all family, for half of a day...</td>\n",
       "    </tr>\n",
       "    <tr>\n",
       "      <th>7</th>\n",
       "      <td>We went twice during a recent trip. The fruit ...</td>\n",
       "    </tr>\n",
       "    <tr>\n",
       "      <th>8</th>\n",
       "      <td>Fantastic place serving great food and drink f...</td>\n",
       "    </tr>\n",
       "    <tr>\n",
       "      <th>9</th>\n",
       "      <td>Okay you guys this was the best ice cream Ive ...</td>\n",
       "    </tr>\n",
       "    <tr>\n",
       "      <th>10</th>\n",
       "      <td>Best ice Cream in Rome hands down,\\nGreat valu...</td>\n",
       "    </tr>\n",
       "    <tr>\n",
       "      <th>11</th>\n",
       "      <td>This is reported to be the oldest gelato shop ...</td>\n",
       "    </tr>\n",
       "    <tr>\n",
       "      <th>12</th>\n",
       "      <td>We called don for pudding with friends after S...</td>\n",
       "    </tr>\n",
       "    <tr>\n",
       "      <th>13</th>\n",
       "      <td>Pretty place. Loads of choice of ice cream and...</td>\n",
       "    </tr>\n",
       "    <tr>\n",
       "      <th>14</th>\n",
       "      <td>Absolutely delicious authentic gelato - tons o...</td>\n",
       "    </tr>\n",
       "    <tr>\n",
       "      <th>15</th>\n",
       "      <td>Don’t let anyone tell you this is a tourist tr...</td>\n",
       "    </tr>\n",
       "    <tr>\n",
       "      <th>16</th>\n",
       "      <td>The bá-bá is amazing just the way it should be...</td>\n",
       "    </tr>\n",
       "    <tr>\n",
       "      <th>17</th>\n",
       "      <td>Best gelato in Rome no doubt. Old school vibe....</td>\n",
       "    </tr>\n",
       "    <tr>\n",
       "      <th>18</th>\n",
       "      <td>We stopped here at night after visiting the pa...</td>\n",
       "    </tr>\n",
       "    <tr>\n",
       "      <th>19</th>\n",
       "      <td>Don't believe the hype! Not sure why all these...</td>\n",
       "    </tr>\n",
       "  </tbody>\n",
       "</table>\n",
       "</div>"
      ],
      "text/plain": [
       "                                              Content\n",
       "0   Wow. Oh My God. The Gelato. Seriously. What. T...\n",
       "1   One of the famous gelato spots. The oldest in ...\n",
       "2   I visited Giolotti’s twice when I was in Rome ...\n",
       "3   Thankyou so much for looking after us all on M...\n",
       "4   Definitely one of the best ice creams I’ve eve...\n",
       "5   The gelato was so delicious that we come back ...\n",
       "6   I walked with my all family, for half of a day...\n",
       "7   We went twice during a recent trip. The fruit ...\n",
       "8   Fantastic place serving great food and drink f...\n",
       "9   Okay you guys this was the best ice cream Ive ...\n",
       "10  Best ice Cream in Rome hands down,\\nGreat valu...\n",
       "11  This is reported to be the oldest gelato shop ...\n",
       "12  We called don for pudding with friends after S...\n",
       "13  Pretty place. Loads of choice of ice cream and...\n",
       "14  Absolutely delicious authentic gelato - tons o...\n",
       "15  Don’t let anyone tell you this is a tourist tr...\n",
       "16  The bá-bá is amazing just the way it should be...\n",
       "17  Best gelato in Rome no doubt. Old school vibe....\n",
       "18  We stopped here at night after visiting the pa...\n",
       "19  Don't believe the hype! Not sure why all these..."
      ]
     },
     "execution_count": 4,
     "metadata": {},
     "output_type": "execute_result"
    }
   ],
   "source": [
    "test = df[\"Content\"].sample(20, random_state=123)\n",
    "test = pd.DataFrame(test)\n",
    "test.reset_index(drop=True, inplace=True)\n",
    "test"
   ]
  },
  {
   "cell_type": "markdown",
   "id": "e38808dd",
   "metadata": {},
   "source": [
    "#### Trues sentiment evaluated by human"
   ]
  },
  {
   "cell_type": "code",
   "execution_count": 5,
   "id": "d0bcaf00",
   "metadata": {},
   "outputs": [
    {
     "data": {
      "application/vnd.microsoft.datawrangler.viewer.v0+json": {
       "columns": [
        {
         "name": "index",
         "rawType": "int64",
         "type": "integer"
        },
        {
         "name": "Content",
         "rawType": "object",
         "type": "string"
        },
        {
         "name": "true_sent",
         "rawType": "object",
         "type": "string"
        }
       ],
       "ref": "c3d366ef-82cb-4fbb-9161-c633073dfe2f",
       "rows": [
        [
         "0",
         "Wow. Oh My God. The Gelato. Seriously. What. This is a great place. The way this works is.. You choose how many toppings first (no number is big enough but I settled for three) then you pay at a pay desk take your ticket  join...More",
         "Positive"
        ],
        [
         "1",
         "One of the famous gelato spots. The oldest in Rome i was told. We went in evening so the queue wasn't bad. Amazing choice of flavours and the fruit flavours were so intense. A nice experience whilst in Rome. Near the Pantheon  also",
         "Positive"
        ],
        [
         "2",
         "I visited Giolotti’s twice when I was in Rome a few weeks ago having visited previously a few years ago. The quality and flavour was as good as ever; visiting later in the day meant the queue was not as big. Excellent range of flavours...More",
         "Positive"
        ],
        [
         "3",
         "Thankyou so much for looking after us all on Monday night! We were the large group from England and the service and the gelato were exceptional it was a perfect end to a perfect night! I had hazelnut and sour cherry and it was soooooo...More",
         "Positive"
        ],
        [
         "4",
         "Definitely one of the best ice creams I’ve ever tasted! Generous scoop size and the ice cream is super creamy, so yummy! Highly recommended when you are visiting Rome",
         "Positive"
        ],
        [
         "5",
         "The gelato was so delicious that we come back everyday to try different flavours. Special thanks to Mariano (hope I get the right spelling) for choosing a surprisingly good combination of flavours! 😄\n\n雪糕超好吃，尤其是各種巧克力口味! 有位帥哥人超好，不但推介了好吃的口味組合，更會問清楚是否喜歡某種口味，以免叫錯不適合的組合，超nice!",
         "Positive"
        ],
        [
         "6",
         "I walked with my all family, for half of a day,  to reach this recommend in our guide book ice creams place. The flavours and consistency of ice creams was disappointing up to a point that we didn't finish them. \nStaff members were arrogant. First...More",
         "Negative"
        ],
        [
         "7",
         "We went twice during a recent trip. The fruit flavors are the best ones (strawberry was a favorite) and the black licorice was so authentic! Pistacchio was great too. Be sure to get in line to pay before you head back to order your gelato....More",
         "Positive"
        ],
        [
         "8",
         "Fantastic place serving great food and drink for breakfast. The staff were always friendly and were more than happy to help me out in English when my attempts at ordering in Italian faltered. The coffee to go was always hot and tasty, and the croissants...More",
         "Positive"
        ],
        [
         "9",
         "Okay you guys this was the best ice cream Ive ever had in my entire life. You have to try the Nutella- its not from this world",
         "Positive"
        ],
        [
         "10",
         "Best ice Cream in Rome hands down,\nGreat value to price ratio. Tastes are just amazing. Especially recommend to taste the nutella taste!",
         "Positive"
        ],
        [
         "11",
         "This is reported to be the oldest gelato shop in Rome.  Huge selection of gelato, pastries and candy.  Expect long lines, it's very popular!  The only drawback is that there is a charge to sit at a table inside the shop.",
         "Neutral"
        ],
        [
         "12",
         "We called don for pudding with friends after Sunday lunch. We’ve been here before and if never disappoints. We all had two scoops of gelato with cream (panna). We also had coffee. For the extra they charge to sit down, it’s well worth it.",
         "Positive"
        ],
        [
         "13",
         "Pretty place. Loads of choice of ice cream and desserts.\nYou won’t be disappointed. \nFabulous. I had the pistachio and hazelnut. Amazing and I’m not a ice cream person.",
         "Positive"
        ],
        [
         "14",
         "Absolutely delicious authentic gelato - tons of options and very generous portions! Super friendly servers too. Highly recommend!",
         "Positive"
        ],
        [
         "15",
         "Don’t let anyone tell you this is a tourist trap. Actually it’s fun, breezy and the ice cream is awesome. A must visit when you come to Rome. Do it and enjoy it.",
         "Positive"
        ],
        [
         "16",
         "The bá-bá is amazing just the way it should be. Unfortunately the ice cream I haven’t tried…but the dolce is worth to try it.",
         "Positive"
        ],
        [
         "17",
         "Best gelato in Rome no doubt. Old school vibe. So many great flavors, loved the cinnamon and salted caramel. Well worth the visit and queue.",
         "Positive"
        ],
        [
         "18",
         "We stopped here at night after visiting the pantheon. Our hotel recommended this location. The gelato was great. However, we found the gentleman who served us to be rude, also the lack of order in the line is boggling. My wife was up, and she...More",
         "Neutral"
        ],
        [
         "19",
         "Don't believe the hype! Not sure why all these reviews or high ratings.  I've had  much better gelato in Roma.  This is for sure not the best and the flavors, oh the flavors, only to appease the tourists.\n\nBy far, one of the worst tourist...More",
         "Negative"
        ]
       ],
       "shape": {
        "columns": 2,
        "rows": 20
       }
      },
      "text/html": [
       "<div>\n",
       "<style scoped>\n",
       "    .dataframe tbody tr th:only-of-type {\n",
       "        vertical-align: middle;\n",
       "    }\n",
       "\n",
       "    .dataframe tbody tr th {\n",
       "        vertical-align: top;\n",
       "    }\n",
       "\n",
       "    .dataframe thead th {\n",
       "        text-align: right;\n",
       "    }\n",
       "</style>\n",
       "<table border=\"1\" class=\"dataframe\">\n",
       "  <thead>\n",
       "    <tr style=\"text-align: right;\">\n",
       "      <th></th>\n",
       "      <th>Content</th>\n",
       "      <th>true_sent</th>\n",
       "    </tr>\n",
       "  </thead>\n",
       "  <tbody>\n",
       "    <tr>\n",
       "      <th>0</th>\n",
       "      <td>Wow. Oh My God. The Gelato. Seriously. What. T...</td>\n",
       "      <td>Positive</td>\n",
       "    </tr>\n",
       "    <tr>\n",
       "      <th>1</th>\n",
       "      <td>One of the famous gelato spots. The oldest in ...</td>\n",
       "      <td>Positive</td>\n",
       "    </tr>\n",
       "    <tr>\n",
       "      <th>2</th>\n",
       "      <td>I visited Giolotti’s twice when I was in Rome ...</td>\n",
       "      <td>Positive</td>\n",
       "    </tr>\n",
       "    <tr>\n",
       "      <th>3</th>\n",
       "      <td>Thankyou so much for looking after us all on M...</td>\n",
       "      <td>Positive</td>\n",
       "    </tr>\n",
       "    <tr>\n",
       "      <th>4</th>\n",
       "      <td>Definitely one of the best ice creams I’ve eve...</td>\n",
       "      <td>Positive</td>\n",
       "    </tr>\n",
       "    <tr>\n",
       "      <th>5</th>\n",
       "      <td>The gelato was so delicious that we come back ...</td>\n",
       "      <td>Positive</td>\n",
       "    </tr>\n",
       "    <tr>\n",
       "      <th>6</th>\n",
       "      <td>I walked with my all family, for half of a day...</td>\n",
       "      <td>Negative</td>\n",
       "    </tr>\n",
       "    <tr>\n",
       "      <th>7</th>\n",
       "      <td>We went twice during a recent trip. The fruit ...</td>\n",
       "      <td>Positive</td>\n",
       "    </tr>\n",
       "    <tr>\n",
       "      <th>8</th>\n",
       "      <td>Fantastic place serving great food and drink f...</td>\n",
       "      <td>Positive</td>\n",
       "    </tr>\n",
       "    <tr>\n",
       "      <th>9</th>\n",
       "      <td>Okay you guys this was the best ice cream Ive ...</td>\n",
       "      <td>Positive</td>\n",
       "    </tr>\n",
       "    <tr>\n",
       "      <th>10</th>\n",
       "      <td>Best ice Cream in Rome hands down,\\nGreat valu...</td>\n",
       "      <td>Positive</td>\n",
       "    </tr>\n",
       "    <tr>\n",
       "      <th>11</th>\n",
       "      <td>This is reported to be the oldest gelato shop ...</td>\n",
       "      <td>Neutral</td>\n",
       "    </tr>\n",
       "    <tr>\n",
       "      <th>12</th>\n",
       "      <td>We called don for pudding with friends after S...</td>\n",
       "      <td>Positive</td>\n",
       "    </tr>\n",
       "    <tr>\n",
       "      <th>13</th>\n",
       "      <td>Pretty place. Loads of choice of ice cream and...</td>\n",
       "      <td>Positive</td>\n",
       "    </tr>\n",
       "    <tr>\n",
       "      <th>14</th>\n",
       "      <td>Absolutely delicious authentic gelato - tons o...</td>\n",
       "      <td>Positive</td>\n",
       "    </tr>\n",
       "    <tr>\n",
       "      <th>15</th>\n",
       "      <td>Don’t let anyone tell you this is a tourist tr...</td>\n",
       "      <td>Positive</td>\n",
       "    </tr>\n",
       "    <tr>\n",
       "      <th>16</th>\n",
       "      <td>The bá-bá is amazing just the way it should be...</td>\n",
       "      <td>Positive</td>\n",
       "    </tr>\n",
       "    <tr>\n",
       "      <th>17</th>\n",
       "      <td>Best gelato in Rome no doubt. Old school vibe....</td>\n",
       "      <td>Positive</td>\n",
       "    </tr>\n",
       "    <tr>\n",
       "      <th>18</th>\n",
       "      <td>We stopped here at night after visiting the pa...</td>\n",
       "      <td>Neutral</td>\n",
       "    </tr>\n",
       "    <tr>\n",
       "      <th>19</th>\n",
       "      <td>Don't believe the hype! Not sure why all these...</td>\n",
       "      <td>Negative</td>\n",
       "    </tr>\n",
       "  </tbody>\n",
       "</table>\n",
       "</div>"
      ],
      "text/plain": [
       "                                              Content true_sent\n",
       "0   Wow. Oh My God. The Gelato. Seriously. What. T...  Positive\n",
       "1   One of the famous gelato spots. The oldest in ...  Positive\n",
       "2   I visited Giolotti’s twice when I was in Rome ...  Positive\n",
       "3   Thankyou so much for looking after us all on M...  Positive\n",
       "4   Definitely one of the best ice creams I’ve eve...  Positive\n",
       "5   The gelato was so delicious that we come back ...  Positive\n",
       "6   I walked with my all family, for half of a day...  Negative\n",
       "7   We went twice during a recent trip. The fruit ...  Positive\n",
       "8   Fantastic place serving great food and drink f...  Positive\n",
       "9   Okay you guys this was the best ice cream Ive ...  Positive\n",
       "10  Best ice Cream in Rome hands down,\\nGreat valu...  Positive\n",
       "11  This is reported to be the oldest gelato shop ...   Neutral\n",
       "12  We called don for pudding with friends after S...  Positive\n",
       "13  Pretty place. Loads of choice of ice cream and...  Positive\n",
       "14  Absolutely delicious authentic gelato - tons o...  Positive\n",
       "15  Don’t let anyone tell you this is a tourist tr...  Positive\n",
       "16  The bá-bá is amazing just the way it should be...  Positive\n",
       "17  Best gelato in Rome no doubt. Old school vibe....  Positive\n",
       "18  We stopped here at night after visiting the pa...   Neutral\n",
       "19  Don't believe the hype! Not sure why all these...  Negative"
      ]
     },
     "execution_count": 5,
     "metadata": {},
     "output_type": "execute_result"
    }
   ],
   "source": [
    "test['true_sent'] = [\n",
    "    \"Positive\", \"Positive\", \"Positive\", \"Positive\", \"Positive\",\n",
    "    \"Positive\", \"Negative\", \"Positive\", \"Positive\", \"Positive\",\n",
    "    \"Positive\", \"Neutral\", \"Positive\", \"Positive\", \"Positive\",\n",
    "    \"Positive\", \"Positive\", \"Positive\", \"Neutral\", \"Negative\"\n",
    "]\n",
    "test"
   ]
  },
  {
   "cell_type": "markdown",
   "id": "09474969",
   "metadata": {},
   "source": [
    "#### GPT-4 output"
   ]
  },
  {
   "cell_type": "code",
   "execution_count": 6,
   "id": "c6a307c6",
   "metadata": {},
   "outputs": [],
   "source": [
    "test['GPT-4_sent_v1'] = [\n",
    "    \"Positive\", \"Negative\", \"Positive\", \"Neutral\", \"Positive\",\n",
    "    \"Positive\", \"Negative\", \"Positive\", \"Positive\", \"Neutral\",\n",
    "    \"Positive\", \"Positive\", \"Positive\", \"Positive\", \"Positive\",\n",
    "    \"Positive\", \"Positive\", \"Positive\", \"Negative\", \"Negative\"\n",
    "]\n",
    "test['GPT-4_sent_v2'] = [\n",
    "    \"Positive\", \"Negative\", \"Positive\", \"Positive\", \"Positive\",\n",
    "    \"Positive\", \"Positive\", \"Positive\", \"Positive\", \"Neutral\",\n",
    "    \"Positive\", \"Positive\", \"Positive\", \"Positive\", \"Positive\",\n",
    "    \"Positive\", \"Positive\", \"Positive\", \"Negative\", \"Negative\"\n",
    "]\n",
    "test['GPT-4_sent_v3'] = [\n",
    "    \"Positive\", \"Positive\", \"Positive\", \"Positive\", \"Positive\",\n",
    "    \"Positive\", \"Negative\", \"Positive\", \"Positive\", \"Neutral\",\n",
    "    \"Positive\", \"Positive\", \"Positive\", \"Positive\", \"Positive\",\n",
    "    \"Positive\", \"Neutral\", \"Positive\", \"Negative\", \"Negative\"\n",
    "]"
   ]
  },
  {
   "cell_type": "markdown",
   "id": "6f8fa1bc",
   "metadata": {},
   "source": [
    "#### Flan-t5 output"
   ]
  },
  {
   "cell_type": "code",
   "execution_count": 7,
   "id": "5c3174fd",
   "metadata": {},
   "outputs": [
    {
     "name": "stdout",
     "output_type": "stream",
     "text": [
      "                                              Content Sentiment_A Sentiment_B  \\\n",
      "0   Wow. Oh My God. The Gelato. Seriously. What. T...    Positive    Positive   \n",
      "1   One of the famous gelato spots. The oldest in ...    Positive    Positive   \n",
      "2   I visited Giolotti’s twice when I was in Rome ...    Positive    Positive   \n",
      "3   Thankyou so much for looking after us all on M...    Positive    Positive   \n",
      "4   Definitely one of the best ice creams I’ve eve...    Positive    Positive   \n",
      "5   The gelato was so delicious that we come back ...    Positive    Positive   \n",
      "6   I walked with my all family, for half of a day...    Negative    Negative   \n",
      "7   We went twice during a recent trip. The fruit ...    Positive    Positive   \n",
      "8   Fantastic place serving great food and drink f...    Positive    Positive   \n",
      "9   Okay you guys this was the best ice cream Ive ...    Positive    Positive   \n",
      "10  Best ice Cream in Rome hands down,\\nGreat valu...    Positive    Positive   \n",
      "11  This is reported to be the oldest gelato shop ...    Positive    Positive   \n",
      "12  We called don for pudding with friends after S...    Positive    Positive   \n",
      "13  Pretty place. Loads of choice of ice cream and...    Positive    Positive   \n",
      "14  Absolutely delicious authentic gelato - tons o...    Positive    Positive   \n",
      "15  Don’t let anyone tell you this is a tourist tr...    Positive    Positive   \n",
      "16  The bá-bá is amazing just the way it should be...    Positive    Positive   \n",
      "17  Best gelato in Rome no doubt. Old school vibe....    Positive    Positive   \n",
      "18  We stopped here at night after visiting the pa...    Negative    Negative   \n",
      "19  Don't believe the hype! Not sure why all these...    Negative    Negative   \n",
      "\n",
      "   Sentiment_C  \n",
      "0     Positive  \n",
      "1     Positive  \n",
      "2     Positive  \n",
      "3     Positive  \n",
      "4     Positive  \n",
      "5     Positive  \n",
      "6     Negative  \n",
      "7     Positive  \n",
      "8     Positive  \n",
      "9     Positive  \n",
      "10    Positive  \n",
      "11    Positive  \n",
      "12    Positive  \n",
      "13    Positive  \n",
      "14    Positive  \n",
      "15    Positive  \n",
      "16    Positive  \n",
      "17    Positive  \n",
      "18    Negative  \n",
      "19    Negative  \n"
     ]
    }
   ],
   "source": [
    "from transformers import AutoTokenizer, AutoModelForSeq2SeqLM\n",
    "import torch\n",
    "import pandas as pd\n",
    "\n",
    "\n",
    "model_name = \"google/flan-t5-large\"\n",
    "tokenizer = AutoTokenizer.from_pretrained(model_name)\n",
    "model = AutoModelForSeq2SeqLM.from_pretrained(model_name)\n",
    "\n",
    "\n",
    "versions = [\"A\", \"B\", \"C\"]\n",
    "\n",
    "# Run predictions for all 3 versions\n",
    "for version in versions:\n",
    "    predictions = []\n",
    "    for review in test[\"Content\"]:\n",
    "        prompt = create_prompt(review, version=version)\n",
    "        inputs = tokenizer(prompt, return_tensors=\"pt\", truncation=True)\n",
    "        outputs = model.generate(**inputs, max_new_tokens=10)\n",
    "        sentiment = tokenizer.decode(outputs[0], skip_special_tokens=True).strip()\n",
    "        predictions.append(sentiment)\n",
    "    \n",
    "    test[f\"Sentiment_{version}\"] = predictions\n",
    "\n",
    "print(test[[\"Content\", \"Sentiment_A\", \"Sentiment_B\", \"Sentiment_C\"]])\n",
    "\n",
    "test.to_csv(\"sentiment_predictions_all_versions.csv\", index=False)"
   ]
  },
  {
   "cell_type": "markdown",
   "id": "2c7d3034",
   "metadata": {},
   "source": [
    "### Task B (Key Complaint/Praise Extraction):\n",
    "* Prompt A: A direct instruction – e.g., “Extract the most important sentence or phrase that expresses a key complaint or praise… Return no more than 4 words. Do not explain.” followed by “Review: [text]”. This prompt straightforwardly asks for the key phrase without any rationale or examples, and explicitly limits the answer length to encourage brevity.\n",
    "* Prompt B: A role and rule-based prompt – e.g., “You are a customer sentiment analyst… extract the core complaint or praise, no more than 4 words… Extract only the most significant phrase… Do not write explanations. Review: [text]”. This provides some context (“customer sentiment analyst”) and reiterates the 4-word limit and requirement to pick the core issue or praise. The intention is to guide the model to focus and not deviate (similar to Prompt A but with slightly more clarity and authority).\n",
    "* Prompt C: A structured prompt with examples – it explicitly states the task and provides bullet-point instructions on what to output depending on sentiment polarity, and it looks like:"
   ]
  },
  {
   "cell_type": "code",
   "execution_count": 8,
   "id": "f30f8d61",
   "metadata": {},
   "outputs": [],
   "source": [
    "def create_prompt_extraction(review_text, version=\"A\"):\n",
    "    if version == \"A\":\n",
    "        return f\"\"\"Extract the most important sentence or phrase that expresses a key complaint or praise in the following customer review. Return no more than 4 words. Do not explain.:\n",
    "\n",
    "Review:\n",
    "\"{review_text}\"\n",
    "\n",
    "Respond only with the extracted sentence or phrase.\"\"\"\n",
    "    elif version == \"B\":\n",
    "        return f\"\"\"You are a customer sentiment analyst. Your task is to read the customer review and extract the core complaint or praise, no more than 4 words long.\n",
    "\n",
    "Extract only the most significant phrase or sentence that shows what the customer felt most strongly about. Return only a phrase that is 4 words or fewer. Do not write explanations.\n",
    "Review:\n",
    "\"{review_text}\"\n",
    "\"\"\"\n",
    "    elif version == \"C\":\n",
    "        return f\"\"\"Task: Identify the key complaint or praise in this review, no more than 4 words long.\n",
    "\n",
    "Review:\n",
    "\"{review_text}\"\n",
    "\n",
    "Instructions:\n",
    "- If the review is mostly positive, output the main thing being praised.  \n",
    "- If mostly negative, output the main complaint.  \n",
    "- No more than 4 words.\n",
    "\n",
    "Output:\"\"\""
   ]
  },
  {
   "cell_type": "markdown",
   "id": "8550c122",
   "metadata": {},
   "source": [
    "#### True extractions by human"
   ]
  },
  {
   "cell_type": "code",
   "execution_count": 9,
   "id": "f31b9591",
   "metadata": {},
   "outputs": [],
   "source": [
    "test['true_extraction'] = [\n",
    "    \"great place\", \"amazing choice of flavourus\", \"good flavour\", \"exceptional gelato\",\n",
    "    \"best ice creams\", \"delicious gelato\", \"disappointing service\",\n",
    "    \"good flavours\", \"fantastic place\", \"best ice cream\",\n",
    "    \"best ice cream\", \"huge selection\", \"never disappoints\",\n",
    "    \"loads of choice\", \"delicious authentic gelato\", \"awesome ice cream\",\n",
    "    \"amazing ba-ba\", \"best gelato\", \"rude service\",\n",
    "    \"not the best flavours\"\n",
    "]"
   ]
  },
  {
   "cell_type": "markdown",
   "id": "c35b9553",
   "metadata": {},
   "source": [
    "#### GPT-4 extractions"
   ]
  },
  {
   "cell_type": "code",
   "execution_count": 10,
   "id": "3819bd67",
   "metadata": {},
   "outputs": [],
   "source": [
    "test['GPT-4_Extraction_v1'] = [\n",
    "    \"this is a great\",\n",
    "    \"the queue wasn't bad.\",\n",
    "    \"not as big. excellent\",\n",
    "    \"no key phrase\",\n",
    "    \"one of the best\",\n",
    "    \"gelato was so delicious\",\n",
    "    \"no key phrase\",\n",
    "    \"flavors are the best\",\n",
    "    \"fantastic place serving great\",\n",
    "    \"this was the best\",\n",
    "    \"best ice cream in\",\n",
    "    \"no key phrase\",\n",
    "    \"no key phrase\",\n",
    "    \"you won’t be disappointed.\",\n",
    "    \"absolutely delicious authentic gelato\",\n",
    "    \"no key phrase\",\n",
    "    \"the bá-bá is amazing\",\n",
    "    \"best gelato in rome\",\n",
    "    \"the gelato was great.\",\n",
    "    \"sure not the best\"\n",
    "]\n",
    "test['GPT-4_Extraction_v2'] = [\n",
    "   \"a great place\",\n",
    "    \"amazing choice\",\n",
    "    \"excellent range\",\n",
    "    \"a perfect end\",\n",
    "    \"the best ice\",\n",
    "    \"so delicious that\",\n",
    "    \"was disappointing up\",\n",
    "    \"the best ones\",\n",
    "    \"serving great food\",\n",
    "    \"the best ice\",\n",
    "    \"best ice\",\n",
    "    \"no strong opinion\",\n",
    "    \"no strong opinion\",\n",
    "    \"amazing and\",\n",
    "    \"absolutely delicious authentic\",\n",
    "    \"no strong opinion\",\n",
    "    \"is amazing just\",\n",
    "    \"best gelato\",\n",
    "    \"was great\",\n",
    "    \"the best and\"\n",
    "]\n",
    "test['GPT-4_Extraction_v3'] = [\n",
    "    \"Amazing gelato and toppings\",\n",
    "    \"Intense fruit flavors\",\n",
    "    \"Consistently great quality\",\n",
    "    \"Exceptional service and gelato\",\n",
    "    \"Super creamy ice cream\",\n",
    "    \"Delicious gelato and service\",\n",
    "    \"Disappointing ice cream quality\",\n",
    "    \"Delicious fruit and pistachio\",\n",
    "    \"Friendly staff and breakfast\",\n",
    "    \"Best ice cream ever\",\n",
    "    \"Amazing taste, great value\",\n",
    "    \"Charge to sit inside\",\n",
    "    \"Never disappoints, worth surcharge\",\n",
    "    \"Amazing pistachio and hazelnut\",\n",
    "    \"Authentic gelato, generous portions\",\n",
    "    \"Awesome ice cream experience\",\n",
    "    \"Amazing bá-bá dessert\",\n",
    "    \"Best gelato, great flavors\",\n",
    "    \"Rude service, disorganized line\",\n",
    "    \"Overrated, poor flavors\"  \n",
    "]"
   ]
  },
  {
   "cell_type": "markdown",
   "id": "d8913066",
   "metadata": {},
   "source": [
    "### Task C (Summarization):\n",
    "* Prompt A: A simple instruction – “Summarize this customer review in 1-2 sentences:” followed by the review text. This is a basic zero-shot summary request, leaving it entirely to the model how to condense the content.\n",
    "* Prompt B: A role prompt with constraints – e.g., “You are a summarization assistant… return a concise summary. It should be 1–2 sentences and capture the main idea and sentiment… factual and in third-person.” followed by the review. This guides the model on style (third-person, no added opinions) and content (main idea and sentiment). The goal is to reduce rambling or inclusion of irrelevant details by clearly stating the requirements.\n",
    "* Prompt C: A few-shot prompt – we prepend two example reviews and their correct 1-2 sentence summaries, then ask “Now, summarize the following review…”. The examples illustrate how a positive review’s summary should look (enthusiastic, highlighting what was loved) and how a negative review’s summary should look (highlighting dissatisfaction). By seeing these examples, LLaMA 3 is expected to mimic the desired summarization style and content selection for the new review. This is the most complex prompt, aimed at maximizing performance through demonstration."
   ]
  },
  {
   "cell_type": "code",
   "execution_count": 11,
   "id": "3f55d060",
   "metadata": {},
   "outputs": [],
   "source": [
    "def create_prompt_summary(review_text, version=\"A\"):\n",
    "    if version == \"A\":\n",
    "        return f\"\"\"Summarize this customer review in 1 - 2 sentences:\\n\\n{review_text}\"\"\"\n",
    "    \n",
    "    elif version == \"B\":\n",
    "        return f\"\"\"You are a summarization assistant. Your task is to read the following review and return a concise summary.\\nIt should be 1–2 sentences and capture the main idea and sentiment.The summary should be factual and in third-person (do not add opinions not in the review).\\n\\nReview:\\n{review_text}\"\"\"\n",
    "\n",
    "    elif version == \"C\":\n",
    "        return f\"\"\"Here are example reviews and summaries:\n",
    "\n",
    "Review: \"The ice cream was amazing and the staff were so friendly. A must-visit!\"\n",
    "Summary: The reviewer loved the gelato and the friendly staff, calling Giolitti a must-visit.\n",
    "\n",
    "Review: \"We waited forever and the ice cream was average. Not worth it.\"\n",
    "Summary: The reviewer felt the gelato was average and not worth the long wait.\n",
    "\n",
    "Now, summarize the following review in 1-2 sentences.\\n\\nReview:\\n\\\"{review_text}\\\"\\n\\nSummary:\"\"\""
   ]
  },
  {
   "cell_type": "markdown",
   "id": "c1843f6a",
   "metadata": {},
   "source": [
    "#### GPT-4 output"
   ]
  },
  {
   "cell_type": "code",
   "execution_count": 12,
   "id": "340258b0",
   "metadata": {},
   "outputs": [],
   "source": [
    "test['GPT-4_summary_v1'] = [\n",
    "    \"This customer is extremely enthusiastic about the gelato, praising the overall experience and describing the unique ordering process where you choose your toppings first, pay, and then receive your dessert. They clearly loved the place and highly recommend it.\",\n",
    "    \"This review highlights a famous and historic gelato spot in Rome, praised for its intense fruit flavors and wide variety. The customer enjoyed a pleasant evening visit with minimal queues, conveniently located near the Pantheon.\",\n",
    "    \"The reviewer returned to Giolitti’s after a few years and was pleased to find the quality and flavor of the gelato just as excellent as before, prompting multiple visits during their recent trip to Rome.\",\n",
    "    \"The reviewer expresses heartfelt thanks for the exceptional service and gelato during a group visit from England, describing it as the perfect end to a perfect night. They especially loved the hazelnut and sour cherry flavors.\",\n",
    "    \"The reviewer describes the ice cream as one of the best they’ve ever had, highlighting its creamy texture, generous portions, and overall deliciousness. They strongly recommend it to anyone visiting Rome.\",\n",
    "    \"The reviewer loved the gelato so much they returned daily to try new flavors, giving special thanks to a helpful staff member, Mariano, for his excellent flavor suggestions. They also praised the chocolate varieties and highlighted the friendly, attentive service in both English and Chinese.\",\n",
    "    \"The reviewer had a disappointing experience after a long walk with their family to a guidebook-recommended gelato shop, criticizing the flavor and texture of the ice cream and noting that they didn’t finish it. They also described the staff as arrogant, contributing to their negative impression.\",\n",
    "    \"The reviewer visited twice during their trip and especially enjoyed the fruit flavors, with strawberry and black licorice standing out for authenticity, and pistachio also praised. They advise future visitors to pay first before ordering gelato.\",\n",
    "    \"The reviewer praises this place for its excellent breakfast offerings, friendly and accommodating staff, and consistently good coffee and croissants. They appreciated the staff’s willingness to assist in English when needed.\",\n",
    "    \"The reviewer enthusiastically declares this the best ice cream they’ve ever had, urging others to try the Nutella flavor, which they describe as otherworldly.\",\n",
    "    \"The reviewer calls this the best ice cream in Rome, praising its amazing flavors and great value for money. They highly recommend trying the Nutella flavor.\",\n",
    "    \"The reviewer notes this as Rome’s oldest gelato shop, known for its wide selection of gelato, pastries, and candy. While it’s very popular and often crowded, they mention the downside of an extra charge for indoor seating.\",\n",
    "    \"The reviewer shares a positive return visit with friends after Sunday lunch, enjoying gelato with cream and coffee. They find the extra charge for sitting inside justified by the quality and experience.\",\n",
    "    \"The reviewer praises the shop’s attractive setting and wide dessert selection, calling it fabulous. They were especially impressed by the pistachio and hazelnut flavors—even though they’re not usually an ice cream fan.\",\n",
    "    \"The reviewer raves about the authentic and delicious gelato, highlighting the wide variety of flavors, generous portions, and friendly service. They strongly recommend visiting.\",\n",
    "    \"The reviewer dismisses claims of the place being a tourist trap, instead describing it as fun and enjoyable with excellent ice cream. They consider it a must-visit spot in Rome.\",\n",
    "    \"The reviewer highly recommends the bá-bá dessert, describing it as perfectly made, though they haven’t tried the ice cream. They suggest the dolce alone makes the visit worthwhile.\",\n",
    "    \"The reviewer confidently claims this is the best gelato in Rome, praising its old-school atmosphere and standout flavors like cinnamon and salted caramel. They believe it’s well worth the visit and the wait in line.\",\n",
    "    \"The reviewer enjoyed the gelato after a visit to the Pantheon, following a hotel recommendation. However, they were disappointed by the rude service and the disorganized queuing system, which affected their overall experience.\",\n",
    "    \"The reviewer strongly criticizes the gelato as overrated and tailored for tourists, stating they’ve had much better in Rome. They describe it as one of the worst tourist experiences and advise against buying into the hype.\",\n",
    "]\n",
    "test['GPT-4_summary_v2'] = [\n",
    "    \"The reviewer expresses strong enthusiasm for the gelato, describing the experience as excellent and highlighting the process of selecting toppings and paying before receiving the order.\",\n",
    "    \"The reviewer describes this gelato spot as a well-known and historic location near the Pantheon, praising the intense fruit flavors and pleasant experience with minimal queue in the evening.\",\n",
    "    \"The reviewer visited Giolitti’s twice during their recent trip to Rome and noted that the quality and flavor remained consistently excellent, as in previous visits.\",\n",
    "    \"The reviewer, part of a large group from England, praises the exceptional service and gelato on Monday night, describing it as the perfect end to their evening.\",\n",
    "    \"The reviewer describes the ice cream as one of the best they’ve ever had, highlighting its creamy texture, generous portions, and recommending it to Rome visitors.\",\n",
    "    \"The reviewer returned daily for the delicious gelato, especially enjoying the chocolate flavors, and praised staff member Mariano for his thoughtful and helpful flavor recommendations.\",\n",
    "    \"The reviewer was disappointed by the flavors and texture of the ice cream, noting they did not finish them, and also criticized the staff for being arrogant.\",\n",
    "    \"The reviewer visited twice during their trip, praising the fruit flavors—especially strawberry—and the authenticity of the black licorice, also recommending pistachio and noting the need to pay before ordering.\",\n",
    "    \"The reviewer praises the breakfast offerings, friendly staff who assisted in English, and consistently good coffee and croissants, highlighting a positive overall experience.\",\n",
    "    \"The reviewer enthusiastically claims this was the best ice cream they’ve ever had, highly recommending the Nutella flavor as exceptional.\",\n",
    "    \"The reviewer describes it as the best ice cream in Rome, praising the excellent value and amazing flavors, with a strong recommendation for the Nutella flavor.\",\n",
    "    \"The reviewer notes that this is reportedly the oldest gelato shop in Rome, offering a wide selection of gelato, pastries, and candy, with long lines due to its popularity and an added charge for indoor seating.\",\n",
    "    \"The reviewer and friends visited after Sunday lunch, enjoyed gelato with cream and coffee, and felt that the additional charge for seating was well worth it given the consistent quality.\",\n",
    "    \"The reviewer praises the wide selection of ice cream and desserts, describing the pistachio and hazelnut flavors as amazing—even as someone who usually doesn’t enjoy ice cream.\",\n",
    "    \"The reviewer highlights the authentic and delicious gelato, abundant flavor options, generous portions, and friendly service, strongly recommending the place.\",\n",
    "    \"The reviewer refutes claims that the place is a tourist trap, describing it as enjoyable with excellent ice cream and recommending it as a must-visit in Rome.\",\n",
    "    \"The reviewer praises the bá-bá dessert as excellent and recommends trying the sweets, though they did not sample the ice cream.\",\n",
    "    \"The reviewer describes it as the best gelato in Rome, appreciating the old-school atmosphere, wide variety of flavors—especially cinnamon and salted caramel—and considers it worth the wait.\",\n",
    "    \"The reviewer enjoyed the gelato after a visit to the Pantheon but was disappointed by the rude service and the disorganized queue system.\",\n",
    "    \"The reviewer strongly criticizes the gelato as overrated and tourist-focused, stating they’ve had much better elsewhere in Rome and consider it one of the worst tourist spots.\",\n",
    "]\n",
    "test['GPT-4_summary_v3'] = [\n",
    "    \"The reviewer was blown away by the gelato and enthusiastic about the experience, praising both the quality and the fun, structured ordering process. They found the toppings irresistible and considered the place exceptional.\",\n",
    "    \"The reviewer enjoyed their visit to this historic gelato spot near the Pantheon, praising the wide variety of flavors and the intensity of the fruit options. They found the evening visit pleasant with minimal queues.\",\n",
    "    \"The reviewer visited Giolitti’s twice on their recent trip and noted that the quality and flavor remained consistently excellent, just as they remembered from previous visits.\",\n",
    "    \"The reviewer, part of a large group from England, praised the exceptional service and gelato at Giolitti, calling it a perfect end to their evening. They especially enjoyed the hazelnut and sour cherry flavors.\",\n",
    "    \"The reviewer raved about the creamy, delicious ice cream and generous portions, calling it one of the best they’ve ever had. They highly recommend visiting when in Rome.\",\n",
    "    \"The reviewer loved the gelato so much they returned daily to try new flavors, especially praising the chocolate varieties. They gave a special thanks to Mariano for his friendly and thoughtful flavor recommendations.\",\n",
    "    \"The reviewer was deeply disappointed by the flavors and texture of the ice cream, stating it wasn’t worth the long walk and even left it unfinished. They also criticized the staff for being arrogant.\",\n",
    "    \"The reviewer visited twice and especially loved the fruit flavors—highlighting strawberry—as well as the authentic black licorice and pistachio. They also advised future visitors to pay first before ordering.\",\n",
    "    \"The reviewer praised the fantastic breakfast offerings, including hot coffee and tasty croissants, and appreciated the friendly staff who kindly assisted in English when needed.\",\n",
    "    \"The reviewer called this the best ice cream they’ve ever had and passionately recommended the Nutella flavor, describing it as out of this world.\",\n",
    "    \"The reviewer declared it the best ice cream in Rome, praising the excellent value and amazing flavors, with a special recommendation for the Nutella.\",\n",
    "    \"The reviewer noted that this historic gelato shop offers a wide variety of gelato, pastries, and candy, and is very popular with long lines. They mentioned a downside: there’s a fee to sit at a table inside.\",\n",
    "    \"The reviewer returned with friends after Sunday lunch and enjoyed gelato with cream and coffee, praising the consistent quality. They felt the extra charge for sitting down was well worth it.\",\n",
    "    \"The reviewer found the place beautiful with plenty of dessert options and was impressed by the pistachio and hazelnut flavors, despite not usually being an ice cream fan. They highly recommend it.\",\n",
    "    \"The reviewer loved the authentic gelato, generous portions, and wide variety of flavors, and praised the friendly staff. They highly recommend the experience.\",\n",
    "    \"The reviewer dismissed claims of it being a tourist trap, describing the place as fun and breezy with amazing ice cream. They strongly recommend it as a must-visit in Rome.\",\n",
    "    \"The reviewer praised the bá-bá dessert as excellent and authentic, noting they didn’t try the ice cream but still found the sweets worth trying.\",\n",
    "    \"The reviewer declared it the best gelato in Rome, highlighting its old-school charm and delicious flavors like cinnamon and salted caramel. They felt it was well worth the wait.\",\n",
    "    \"The reviewer enjoyed the gelato and appreciated the recommendation from their hotel but were disappointed by the rude service and the chaotic, disorganized line.\",\n",
    "    \"The reviewer strongly criticized the gelato, calling it overrated and tailored for tourists, and claimed to have had much better elsewhere in Rome. They considered it one of the worst tourist experiences.\",\n",
    "]"
   ]
  },
  {
   "cell_type": "markdown",
   "id": "210efb76",
   "metadata": {},
   "source": [
    "### Confusion matrixes for Task A"
   ]
  },
  {
   "cell_type": "code",
   "execution_count": 18,
   "id": "cc67fca3",
   "metadata": {},
   "outputs": [
    {
     "name": "stdout",
     "output_type": "stream",
     "text": [
      "\n",
      "📊 GPT-4A - Sentiment Classification\n",
      "Accuracy: 0.75\n",
      "F1 Score: 0.51\n"
     ]
    },
    {
     "data": {
      "image/png": "[encoded data removed]",
      "text/plain": [
       "<Figure size 640x480 with 2 Axes>"
      ]
     },
     "metadata": {},
     "output_type": "display_data"
    },
    {
     "name": "stdout",
     "output_type": "stream",
     "text": [
      "\n",
      "📊 GPT-4B - Sentiment Classification\n",
      "Accuracy: 0.75\n",
      "F1 Score: 0.42\n"
     ]
    },
    {
     "data": {
      "image/png": "[encoded data removed]",
      "text/plain": [
       "<Figure size 640x480 with 2 Axes>"
      ]
     },
     "metadata": {},
     "output_type": "display_data"
    },
    {
     "name": "stdout",
     "output_type": "stream",
     "text": [
      "\n",
      "📊 GPT-4C - Sentiment Classification\n",
      "Accuracy: 0.80\n",
      "F1 Score: 0.57\n"
     ]
    },
    {
     "data": {
      "image/png": "[encoded data removed]",
      "text/plain": [
       "<Figure size 640x480 with 2 Axes>"
      ]
     },
     "metadata": {},
     "output_type": "display_data"
    }
   ],
   "source": [
    "def evaluate_sentiment(true, pred, model_name):\n",
    "    acc = accuracy_score(true, pred)\n",
    "    f1 = f1_score(true, pred, average='macro')\n",
    "    cm = confusion_matrix(true, pred, labels=[\"Positive\", \"Neutral\", \"Negative\"])\n",
    "\n",
    "    print(f\"\\n📊 {model_name} - Sentiment Classification\")\n",
    "    print(f\"Accuracy: {acc:.2f}\")\n",
    "    print(f\"F1 Score: {f1:.2f}\")\n",
    "    \n",
    "    sns.heatmap(cm, annot=True, fmt='d', xticklabels=[\"Positive\", \"Neutral\", \"Negative\"], yticklabels=[\"Positive\", \"Neutral\", \"Negative\"])\n",
    "    plt.title(f\"Confusion Matrix: {model_name}\")\n",
    "    plt.xlabel(\"Predicted\")\n",
    "    plt.ylabel(\"True\")\n",
    "    plt.show()\n",
    "\n",
    "\n",
    "evaluate_sentiment(test[\"true_sent\"], test[\"GPT-4_sent_v1\"], \"GPT-4A\")\n",
    "evaluate_sentiment(test[\"true_sent\"], test[\"GPT-4_sent_v2\"], \"GPT-4B\")\n",
    "evaluate_sentiment(test[\"true_sent\"], test[\"GPT-4_sent_v3\"], \"GPT-4C\")"
   ]
  },
  {
   "cell_type": "code",
   "execution_count": 16,
   "id": "c126a122",
   "metadata": {},
   "outputs": [
    {
     "name": "stdout",
     "output_type": "stream",
     "text": [
      "\n",
      "📊 google/flan-t5-large - Sentiment Classification\n",
      "Accuracy: 0.90\n",
      "F1 Score: 0.59\n"
     ]
    },
    {
     "data": {
      "image/png": "[encoded data removed]",
      "text/plain": [
       "<Figure size 640x480 with 2 Axes>"
      ]
     },
     "metadata": {},
     "output_type": "display_data"
    },
    {
     "name": "stdout",
     "output_type": "stream",
     "text": [
      "\n",
      "📊 google/flan-t5-large - Sentiment Classification\n",
      "Accuracy: 0.90\n",
      "F1 Score: 0.59\n"
     ]
    },
    {
     "data": {
      "image/png": "[encoded data removed]",
      "text/plain": [
       "<Figure size 640x480 with 2 Axes>"
      ]
     },
     "metadata": {},
     "output_type": "display_data"
    },
    {
     "name": "stdout",
     "output_type": "stream",
     "text": [
      "\n",
      "📊 google/flan-t5-large - Sentiment Classification\n",
      "Accuracy: 0.90\n",
      "F1 Score: 0.59\n"
     ]
    },
    {
     "data": {
      "image/png": "[encoded data removed]",
      "text/plain": [
       "<Figure size 640x480 with 2 Axes>"
      ]
     },
     "metadata": {},
     "output_type": "display_data"
    }
   ],
   "source": [
    "evaluate_sentiment(test[\"true_sent\"], test[\"Sentiment_A\"], \"google/flan-t5-large\")\n",
    "evaluate_sentiment(test[\"true_sent\"], test[\"Sentiment_B\"], \"google/flan-t5-large\")\n",
    "evaluate_sentiment(test[\"true_sent\"], test[\"Sentiment_C\"], \"google/flan-t5-large\")"
   ]
  },
  {
   "cell_type": "markdown",
   "id": "5ee46654",
   "metadata": {},
   "source": [
    "### LLama-3 8B output"
   ]
  },
  {
   "cell_type": "code",
   "execution_count": null,
   "id": "8d272d6e",
   "metadata": {},
   "outputs": [],
   "source": [
    "from transformers import AutoTokenizer, AutoModelForCausalLM\n",
    "\n",
    "model_name = \"path/to/llama-3-8b\"  \n",
    "tokenizer = AutoTokenizer.from_pretrained(model_name)\n",
    "model = AutoModelForCausalLM.from_pretrained(model_name)"
   ]
  },
  {
   "cell_type": "code",
   "execution_count": null,
   "id": "7bc3d71f",
   "metadata": {},
   "outputs": [],
   "source": [
    "def create_prompt_sentiment(review_text: str, version: str=\"A\") -> str:\n",
    "    \"\"\"Create a sentiment classification prompt for a given review text.\"\"\"\n",
    "    if version == \"A\":\n",
    "        # Version A: straightforward instruction\n",
    "        return f\"Classify the sentiment of this review as Positive, Neutral, or Negative:\\n\\n{review_text}\"\n",
    "    elif version == \"B\":\n",
    "        # Version B: role prompt with explicit output instruction\n",
    "        return (\n",
    "            \"You are a sentiment classifier for touristic place reviews. \"\n",
    "            \"Output one of the following: Positive, Neutral, or Negative.\\n\"\n",
    "            f\"Content: {review_text}\"\n",
    "        )\n",
    "    elif version == \"C\":\n",
    "        # Version C: detailed instructions about sentiment analysis\n",
    "        return (\n",
    "            \"Sentiment Analysis Task:\\n\"\n",
    "            \"Please assess the sentiment of this customer review of a touristic destination. \"\n",
    "            \"Read everything and take all cues into account (including negations or sarcasm). \"\n",
    "            \"Choose from: Positive / Neutral / Negative.\\n\\n\"\n",
    "            f\"Content:\\n\\\"{review_text}\\\"\"\n",
    "        )\n",
    "    else:\n",
    "        raise ValueError(\"Invalid version for sentiment prompt\")\n",
    "\n",
    "def create_prompt_extraction(review_text: str, version: str=\"A\") -> str:\n",
    "    \"\"\"Create a complaint/praise extraction prompt for a given review text.\"\"\"\n",
    "    if version == \"A\":\n",
    "        # Version A: direct instruction, no explanation\n",
    "        return (\n",
    "            \"Extract the most important sentence or phrase that expresses a key complaint or praise in the following customer review. \"\n",
    "            \"Return no more than 4 words. Do not explain.\\n\\n\"\n",
    "            f\"Review:\\n\\\"{review_text}\\\"\\n\\n\"\n",
    "            \"Respond only with the extracted sentence or phrase.\"\n",
    "        )\n",
    "    elif version == \"B\":\n",
    "        # Version B: role-based prompt with guidance on length\n",
    "        return (\n",
    "            \"You are a customer sentiment analyst. Read the review and extract the core complaint or praise, no more than 4 words long.\\n\\n\"\n",
    "            \"Extract only the most significant phrase showing what the customer felt most strongly about. \"\n",
    "            \"Return a phrase 4 words or fewer. Do not provide any explanation.\\n\"\n",
    "            f\"Review:\\n\\\"{review_text}\\\"\"\n",
    "        )\n",
    "    elif version == \"C\":\n",
    "        # Version C: structured task with examples in instructions\n",
    "        return (\n",
    "            \"Task: Identify the key complaint or praise in this review, in no more than 4 words.\\n\\n\"\n",
    "            f\"Review:\\n\\\"{review_text}\\\"\\n\\n\"\n",
    "            \"Instructions:\\n\"\n",
    "            \"- If the review is mostly positive, output the main thing being praised.\\n\"\n",
    "            \"- If mostly negative, output the main complaint.\\n\"\n",
    "            \"- Limit your answer to 4 words or fewer.\\n\\n\"\n",
    "            \"Output:\"\n",
    "        )\n",
    "    else:\n",
    "        raise ValueError(\"Invalid version for extraction prompt\")\n",
    "\n",
    "def create_prompt_summary(review_text: str, version: str=\"A\") -> str:\n",
    "    \"\"\"Create a summarization prompt for a given review text.\"\"\"\n",
    "    if version == \"A\":\n",
    "        # Version A: simple instruction to summarize\n",
    "        return f\"Summarize this customer review in 1-2 sentences:\\n\\n{review_text}\"\n",
    "    elif version == \"B\":\n",
    "        # Version B: role prompt with explicit requirements\n",
    "        return (\n",
    "            \"You are a summarization assistant. Read the following review and return a concise summary.\\n\"\n",
    "            \"The summary should be 1–2 sentences, capturing the main idea and sentiment. \"\n",
    "            \"Write it in third person, staying factual and only using information from the review.\\n\\n\"\n",
    "            f\"Review:\\n{review_text}\"\n",
    "        )\n",
    "    elif version == \"C\":\n",
    "        # Version C: few-shot examples provided before the actual task\n",
    "        return (\n",
    "            'Here are example reviews and summaries:\\n\\n'\n",
    "            'Review: \"The ice cream was amazing and the staff were so friendly. A must-visit!\"\\n'\n",
    "            'Summary: The reviewer loved the gelato and the friendly staff, calling it a must-visit.\\n\\n'\n",
    "            'Review: \"We waited forever and the ice cream was average. Not worth it.\"\\n'\n",
    "            'Summary: The reviewer felt the gelato was average and not worth the long wait.\\n\\n'\n",
    "            f'Now, summarize the following review in 1-2 sentences.\\n\\nReview:\\n\"{review_text}\"\\n\\nSummary:'\n",
    "        )\n",
    "    else:\n",
    "        raise ValueError(\"Invalid version for summary prompt\")"
   ]
  },
  {
   "cell_type": "code",
   "execution_count": null,
   "id": "557e30ba",
   "metadata": {},
   "outputs": [],
   "source": [
    "sentiment_preds = {}\n",
    "for version in [\"A\", \"B\", \"C\"]:\n",
    "    predictions = []\n",
    "    for review in df[\"Content\"]:\n",
    "        prompt = create_prompt_sentiment(review, version=version)\n",
    "        inputs = tokenizer(prompt, return_tensors=\"pt\")\n",
    "        outputs = model.generate(**inputs, max_new_tokens=3, eos_token_id=tokenizer.eos_token_id)\n",
    "        result = tokenizer.decode(outputs[0], skip_special_tokens=True).strip()\n",
    "        sentiment = result.split()[0] if result else \"\"\n",
    "        predictions.append(sentiment)\n",
    "    sentiment_preds[version] = predictions\n",
    "    df[f\"LLaMA_sent_{version}\"] = predictions  "
   ]
  },
  {
   "cell_type": "code",
   "execution_count": null,
   "id": "41635f41",
   "metadata": {},
   "outputs": [],
   "source": [
    "extraction_preds = {}\n",
    "for version in [\"A\", \"B\", \"C\"]:\n",
    "    predictions = []\n",
    "    for review in df[\"Content\"]:\n",
    "        prompt = create_prompt_extraction(review, version=version)\n",
    "        inputs = tokenizer(prompt, return_tensors=\"pt\")\n",
    "        outputs = model.generate(**inputs, max_new_tokens=6, eos_token_id=tokenizer.eos_token_id)\n",
    "        result = tokenizer.decode(outputs[0], skip_special_tokens=True).strip()\n",
    "        phrase = result.strip('.\" ')\n",
    "        phrase = ' '.join(phrase.split()[:4])\n",
    "        predictions.append(phrase)\n",
    "    extraction_preds[version] = predictions\n",
    "    df[f\"LLaMA_ext_{version}\"] = predictions"
   ]
  },
  {
   "cell_type": "code",
   "execution_count": null,
   "id": "4e6d75bd",
   "metadata": {},
   "outputs": [],
   "source": [
    "summary_preds = {}\n",
    "for version in [\"A\", \"B\", \"C\"]:\n",
    "    predictions = []\n",
    "    for review in df[\"Content\"]:\n",
    "        prompt = create_prompt_summary(review, version=version)\n",
    "        inputs = tokenizer(prompt, return_tensors=\"pt\")\n",
    "        outputs = model.generate(**inputs, max_new_tokens=50, eos_token_id=tokenizer.eos_token_id)\n",
    "        result = tokenizer.decode(outputs[0], skip_special_tokens=True).strip()\n",
    "        summary = result\n",
    "        predictions.append(summary)\n",
    "    summary_preds[version] = predictions\n",
    "    df[f\"LLaMA_sum_{version}\"] = predictions"
   ]
  },
  {
   "cell_type": "markdown",
   "id": "23a0ced9",
   "metadata": {},
   "source": [
    "### Evaluation of the outputs"
   ]
  },
  {
   "cell_type": "code",
   "execution_count": null,
   "id": "31455a56",
   "metadata": {},
   "outputs": [],
   "source": [
    "def token_level_scores(true_phrases, pred_phrases):\n",
    "    precision_list, recall_list, f1_list = [], [], []\n",
    "    for true, pred in zip(true_phrases, pred_phrases):\n",
    "        true_tokens = re.findall(r\"\\w+\", str(true).lower())\n",
    "        pred_tokens = re.findall(r\"\\w+\", str(pred).lower())\n",
    "        if len(pred_tokens) == 0:\n",
    "            if len(true_tokens) == 0:\n",
    "                prec = rec = 1.0 \n",
    "            else:\n",
    "                prec = rec = 0.0\n",
    "        else:\n",
    "            common = sum((token in true_tokens) for token in pred_tokens)\n",
    "            prec = common / len(pred_tokens) if pred_tokens else 0\n",
    "            rec = common / len(true_tokens) if true_tokens else 0\n",
    "        f1 = 2*prec*rec/(prec+rec) if (prec+rec) > 0 else 0.0\n",
    "        precision_list.append(prec)\n",
    "        recall_list.append(rec)\n",
    "        f1_list.append(f1)\n",
    "    return np.mean(precision_list), np.mean(recall_list), np.mean(f1_list)\n",
    "\n",
    "\n",
    "true_sentiments = df[\"true_sent\"]\n",
    "true_phrases = df[\"true_extraction\"]\n",
    "\n",
    "\n",
    "\n",
    "for version in [\"A\", \"B\", \"C\"]:\n",
    "    preds = sentiment_preds[version]\n",
    "    acc = accuracy_score(true_sentiments, preds)\n",
    "    f1 = f1_score(true_sentiments, preds, average='macro', labels=[\"Positive\",\"Neutral\",\"Negative\"])\n",
    "    print(f\"LLaMA_{version} – Sentiment: Accuracy = {acc:.2f}, Macro F1 = {f1:.2f}\")\n",
    "    cm = confusion_matrix(true_sentiments, preds, labels=[\"Positive\",\"Neutral\",\"Negative\"])\n",
    "    print(\"Confusion Matrix:\\n\", cm)\n",
    "\n",
    "\n",
    "for version in [\"A\", \"B\", \"C\"]:\n",
    "    preds = extraction_preds[version]\n",
    "    exact_matches = sum(str(p).strip().lower() == str(t).strip().lower() for p,t in zip(preds, true_phrases))\n",
    "    em_rate = exact_matches / len(df)\n",
    "    prec, rec, f1 = token_level_scores(true_phrases, preds)\n",
    "    print(f\"LLaMA_{version} – Extraction: Exact Match = {em_rate:.2%}, Token P = {prec:.2f}, R = {rec:.2f}, F1 = {f1:.2f}\")\n",
    "\n",
    "\n",
    "from itertools import zip_longest\n",
    "\n",
    "# Choose GPT-4's version 3 summaries as reference (assuming high-quality reference)\n",
    "references = df[\"GPT-4_summary_v3\"].fillna(\"\").tolist()\n",
    "\n",
    "\n",
    "def compute_rouge(preds, refs):\n",
    "    def LCS(a, b):\n",
    "        dp = [[0]*(len(b)+1) for _ in range(len(a)+1)]\n",
    "        for i in range(1, len(a)+1):\n",
    "            for j in range(1, len(b)+1):\n",
    "                if a[i-1] == b[j-1]:\n",
    "                    dp[i][j] = dp[i-1][j-1] + 1\n",
    "                else:\n",
    "                    dp[i][j] = max(dp[i-1][j], dp[i][j-1])\n",
    "        return dp[-1][-1]\n",
    "    rouge1_f1_list = []\n",
    "    rougeL_f1_list = []\n",
    "    for pred, ref in zip_longest(preds, refs, fillvalue=\"\"):\n",
    "        pred_words = re.findall(r\"\\w+\", str(pred).lower())\n",
    "        ref_words = re.findall(r\"\\w+\", str(ref).lower())\n",
    "        overlap1 = 0\n",
    "        ref_counts = {}\n",
    "        for w in ref_words:\n",
    "            ref_counts[w] = ref_counts.get(w, 0) + 1\n",
    "        for w in pred_words:\n",
    "            if ref_counts.get(w, 0) > 0:\n",
    "                overlap1 += 1\n",
    "                ref_counts[w] -= 1\n",
    "        if ref_words:\n",
    "            r1_recall = overlap1 / len(ref_words)\n",
    "        else:\n",
    "            r1_recall = 0\n",
    "        if pred_words:\n",
    "            r1_prec = overlap1 / len(pred_words)\n",
    "        else:\n",
    "            r1_prec = 0\n",
    "        r1_f1 = 2 * r1_prec * r1_recall / (r1_prec + r1_recall) if (r1_prec + r1_recall) > 0 else 0.0\n",
    "        lcs_len = LCS(pred_words, ref_words)\n",
    "        rL_recall = lcs_len / len(ref_words) if ref_words else 0\n",
    "        rL_prec   = lcs_len / len(pred_words) if pred_words else 0\n",
    "        rL_f1 = 2 * rL_prec * rL_recall / (rL_prec + rL_recall) if (rL_prec + rL_recall) > 0 else 0.0\n",
    "        rouge1_f1_list.append(r1_f1)\n",
    "        rougeL_f1_list.append(rL_f1)\n",
    "    return np.mean(rouge1_f1_list), np.mean(rougeL_f1_list)\n",
    "\n",
    "for version in [\"A\", \"B\", \"C\"]:\n",
    "    preds = summary_preds[version]\n",
    "    rouge1, rougeL = compute_rouge(preds, references)\n",
    "    print(f\"LLaMA_{version} – Summarization: ROUGE-1 F1 = {rouge1:.3f}, ROUGE-L F1 = {rougeL:.3f}\")"
   ]
  },
  {
   "cell_type": "code",
   "execution_count": null,
   "id": "ba44c12f",
   "metadata": {},
   "outputs": [],
   "source": []
  }
 ],
 "metadata": {
  "kernelspec": {
   "display_name": "base",
   "language": "python",
   "name": "python3"
  },
  "language_info": {
   "codemirror_mode": {
    "name": "ipython",
    "version": 3
   },
   "file_extension": ".py",
   "mimetype": "text/x-python",
   "name": "python",
   "nbconvert_exporter": "python",
   "pygments_lexer": "ipython3",
   "version": "3.12.7"
  }
 },
 "nbformat": 4,
 "nbformat_minor": 5
}
